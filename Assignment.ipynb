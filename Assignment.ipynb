{
  "nbformat": 4,
  "nbformat_minor": 0,
  "metadata": {
    "colab": {
      "provenance": [],
      "authorship_tag": "ABX9TyPL+ZH3zBdhzsPopM/5DMgJ",
      "include_colab_link": true
    },
    "kernelspec": {
      "name": "python3",
      "display_name": "Python 3"
    },
    "language_info": {
      "name": "python"
    }
  },
  "cells": [
    {
      "cell_type": "markdown",
      "metadata": {
        "id": "view-in-github",
        "colab_type": "text"
      },
      "source": [
        "<a href=\"https://colab.research.google.com/github/michaelsingarayarthomson/dataset/blob/main/Assignment.ipynb\" target=\"_parent\"><img src=\"https://colab.research.google.com/assets/colab-badge.svg\" alt=\"Open In Colab\"/></a>"
      ]
    },
    {
      "cell_type": "code",
      "execution_count": null,
      "metadata": {
        "id": "FESeYNaA80m1"
      },
      "outputs": [],
      "source": [
        "from keras.preprocessing.image import ImageDataGenerator\n",
        "from keras.models import Sequential\n",
        "from keras.layers import Conv2D, MaxPooling2D, Flatten, Dense"
      ]
    },
    {
      "cell_type": "code",
      "source": [
        "datagen = ImageDataGenerator(\n",
        "rotation_range=20,\n",
        "width_shift_range=0.1,\n",
        "height_shift_range=0.1,\n",
        "shear_range=0.2,\n",
        "zoom_range=0.2,\n",
        "horizontal_flip=True,\n",
        "fill_mode='nearest'\n",
        ")"
      ],
      "metadata": {
        "id": "k-GYGP4y8-xP"
      },
      "execution_count": null,
      "outputs": []
    },
    {
      "cell_type": "code",
      "source": [
        "train_data = datagen.flow_from_directory(\n",
        "'animals',\n",
        "target_size=(224, 224),\n",
        "batch_size=32,\n",
        "class_mode='categorical'\n",
        ")"
      ],
      "metadata": {
        "id": "On4jKR199M5E"
      },
      "execution_count": null,
      "outputs": []
    },
    {
      "cell_type": "markdown",
      "source": [
        "Found 5400 images belonging to 1 classes."
      ],
      "metadata": {
        "id": "ZrkjFqaDBrqx"
      }
    },
    {
      "cell_type": "code",
      "source": [
        "model = Sequential()\n",
        "model.add(Conv2D(32, (3, 3), activation='relu', input_shape=(224, 224, 3)))\n",
        "model.add(Conv2D(64, (3, 3), activation='relu'))\n",
        "model.add(MaxPooling2D((2, 2)))\n",
        "model.add(Flatten())"
      ],
      "metadata": {
        "id": "DHfQs3Ii-K4c"
      },
      "execution_count": null,
      "outputs": []
    },
    {
      "cell_type": "code",
      "source": [
        "model.add(Dense(128, activation='relu'))\n",
        "model.add(Dense(64, activation='relu'))"
      ],
      "metadata": {
        "id": "kFEyW244_OAK"
      },
      "execution_count": null,
      "outputs": []
    },
    {
      "cell_type": "code",
      "source": [
        "model.add(Dense(90, activation='softmax'))"
      ],
      "metadata": {
        "id": "bdL1yhbh_drK"
      },
      "execution_count": null,
      "outputs": []
    },
    {
      "cell_type": "code",
      "source": [
        "model.compile(optimizer='adam', loss='categorical_crossentropy',\n",
        "metrics=['accuracy'])"
      ],
      "metadata": {
        "id": "9AXBRvyt_g-r"
      },
      "execution_count": null,
      "outputs": []
    },
    {
      "cell_type": "code",
      "source": [
        "test_loss, test_accuracy = model.evaluate(train_data)"
      ],
      "metadata": {
        "id": "xUXrZ9o9AXhI"
      },
      "execution_count": null,
      "outputs": []
    },
    {
      "cell_type": "markdown",
      "source": [
        "169/169 [==============================] - 371s 2s/step - loss: 5274.6792 - accuracy: 0.0000e+00"
      ],
      "metadata": {
        "id": "waJXRcFNBcVx"
      }
    },
    {
      "cell_type": "code",
      "source": [
        "print('Test accuracy:', test_accuracy)"
      ],
      "metadata": {
        "id": "NPzEKWlUArJx"
      },
      "execution_count": null,
      "outputs": []
    },
    {
      "cell_type": "markdown",
      "source": [
        "Test accuracy: 0.0"
      ],
      "metadata": {
        "id": "7CroJc2gA1DD"
      }
    },
    {
      "cell_type": "code",
      "source": [],
      "metadata": {
        "id": "HMXOHj3LAyOy"
      },
      "execution_count": null,
      "outputs": []
    }
  ]
}